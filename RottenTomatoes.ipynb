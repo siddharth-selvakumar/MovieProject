{
 "cells": [
  {
   "cell_type": "code",
   "execution_count": 88,
   "id": "a3615af7-565d-4326-856d-e513b6333796",
   "metadata": {},
   "outputs": [],
   "source": [
    "import selenium\n",
    "from selenium import webdriver\n",
    "from selenium.webdriver.common.by import By\n",
    "from bs4 import BeautifulSoup\n",
    "import requests\n",
    "import pandas as pd\n",
    "\n",
    "# importing data sets\n",
    "movie_data = pd.read_csv('movie_success_rate.csv')\n",
    "df = movie_data.loc[0:499]\n",
    "sub_df = df.loc[0:10]\n",
    "sub_df.head(2)\n",
    "film_names = list(sub_df['Title'])"
   ]
  },
  {
   "cell_type": "code",
   "execution_count": 92,
   "id": "2b35a700-c4ac-4b46-9023-7f7daad43ff6",
   "metadata": {},
   "outputs": [],
   "source": [
    "def get_tomato_ratings(movie_list):\n",
    "    tomato_ratings = {}\n",
    "    for movie in movie_list:\n",
    "        search = movie, 'Rotten Tomatoes'\n",
    "        driver = webdriver.Chrome()\n",
    "        driver.get(f'https://www.google.com/search?q={search}')\n",
    "        link = driver.find_element(By.PARTIAL_LINK_TEXT, 'Rotten Tomatoes')\n",
    "        link.click()\n",
    "       \n",
    "        # getting the current URL, so we can parse it\n",
    "        page = driver.current_url\n",
    "        \n",
    "        # obtaining the html for the rotten tomatoes page\n",
    "        wp = requests.get(page)\n",
    "        soup = BeautifulSoup(wp.text, 'html')\n",
    "        \n",
    "        #parsing the page to find the line of html containing the movie rating\n",
    "        rating = str(soup.find(size=\"1.375\"))\n",
    "        \n",
    "        # finding the movie rating and assigning the value to a variable\n",
    "        percent_index = rating.find('%')\n",
    "        tomatoes_rating = rating[(percent_index - 2): percent_index]\n",
    "        tomato_ratings[movie] = tomatoes_rating\n",
    "    print(tomato_ratings)"
   ]
  },
  {
   "cell_type": "code",
   "execution_count": 94,
   "id": "6cda6c04-88e1-4439-ae24-6aacf9f81987",
   "metadata": {},
   "outputs": [
    {
     "name": "stdout",
     "output_type": "stream",
     "text": [
      "{'Guardians of the Galaxy': '92', 'Prometheus': '73', 'Split': '78', 'Sing': '71', 'Suicide Squad': '90', 'The Great Wall': '35', 'La La Land': '91', 'The Lost City of Z': '86', 'Passengers': '30', 'Fantastic Beasts and Where to Find Them': '74', 'Hidden Figures': '93'}\n"
     ]
    }
   ],
   "source": [
    "get_tomato_ratings(film_names)"
   ]
  },
  {
   "cell_type": "code",
   "execution_count": 102,
   "id": "9eab65e9-1d52-4ed9-8062-c59753bfb7ee",
   "metadata": {},
   "outputs": [
    {
     "data": {
      "text/plain": [
       "Index(['Rank', 'Title', 'Genre', 'Description', 'Director', 'Actors', 'Year',\n",
       "       'Runtime (Minutes)', 'Rating', 'Votes', 'Revenue (Millions)',\n",
       "       'Metascore', 'Action', 'Adventure', 'Aniimation', 'Biography', 'Comedy',\n",
       "       'Crime', 'Drama', 'Family', 'Fantasy', 'History', 'Horror', 'Music',\n",
       "       'Musical', 'Mystery', 'Romance', 'Sci-Fi', 'Sport', 'Thriller', 'War',\n",
       "       'Western', 'Success'],\n",
       "      dtype='object')"
      ]
     },
     "execution_count": 102,
     "metadata": {},
     "output_type": "execute_result"
    }
   ],
   "source": [
    "df.columns"
   ]
  }
 ],
 "metadata": {
  "kernelspec": {
   "display_name": "Python 3 (ipykernel)",
   "language": "python",
   "name": "python3"
  },
  "language_info": {
   "codemirror_mode": {
    "name": "ipython",
    "version": 3
   },
   "file_extension": ".py",
   "mimetype": "text/x-python",
   "name": "python",
   "nbconvert_exporter": "python",
   "pygments_lexer": "ipython3",
   "version": "3.11.5"
  }
 },
 "nbformat": 4,
 "nbformat_minor": 5
}
